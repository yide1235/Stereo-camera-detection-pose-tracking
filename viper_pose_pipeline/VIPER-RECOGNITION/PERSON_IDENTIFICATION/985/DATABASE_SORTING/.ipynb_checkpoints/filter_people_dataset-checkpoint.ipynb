{
 "cells": [
  {
   "cell_type": "code",
   "execution_count": 6,
   "id": "86ded7c7",
   "metadata": {},
   "outputs": [],
   "source": [
    "import numpy as np\n",
    "import matplotlib.pyplot as plt\n",
    "import pickle"
   ]
  },
  {
   "cell_type": "code",
   "execution_count": 7,
   "id": "21696db8",
   "metadata": {},
   "outputs": [],
   "source": [
    "mean_vec=[490,490,365,365,475,475,325,325,265,265,430,300]\n",
    "sd_vec=[25,25,25,25,30,30,25,25,15,15,25,25]"
   ]
  },
  {
   "cell_type": "code",
   "execution_count": 8,
   "id": "24f45663",
   "metadata": {},
   "outputs": [],
   "source": [
    "dat=np.zeros((1000000,24))"
   ]
  },
  {
   "cell_type": "code",
   "execution_count": 9,
   "id": "5b181ac5",
   "metadata": {},
   "outputs": [],
   "source": [
    "for i in range(1000000):\n",
    "    main_shift=np.random.normal(0, 2)\n",
    "    \n",
    "    for j in range(1,24,2):\n",
    "        dat[i,j]=mean_vec[int((j-1)/2)]+main_shift*sd_vec[int((j-1)/2)]+np.random.normal(0, .5)*sd_vec[int((j-1)/2)]\n",
    "    for j in range(0,23,2):\n",
    "        dat[i,j]=i\n",
    "        "
   ]
  },
  {
   "cell_type": "code",
   "execution_count": 169,
   "id": "7f8389c1",
   "metadata": {},
   "outputs": [],
   "source": [
    "for i in range(1,24,2):\n",
    "    sort_indices = np.argsort(dat[:,i])\n",
    "    dat[:,i-1:i+1]=dat[:,i-1:i+1][sort_indices]\n",
    "    "
   ]
  },
  {
   "cell_type": "code",
   "execution_count": 171,
   "id": "641b906d",
   "metadata": {},
   "outputs": [
    {
     "data": {
      "text/plain": [
       "0"
      ]
     },
     "execution_count": 171,
     "metadata": {},
     "output_type": "execute_result"
    }
   ],
   "source": [
    "len([])"
   ]
  },
  {
   "cell_type": "code",
   "execution_count": 48,
   "id": "e48bf336",
   "metadata": {},
   "outputs": [],
   "source": [
    "with open('test_data.pkl', 'wb') as file:\n",
    "    pickle.dump(dat, file)"
   ]
  },
  {
   "cell_type": "code",
   "execution_count": 5,
   "id": "1c3e9197",
   "metadata": {},
   "outputs": [],
   "source": [
    "def binary_search(arr,value):\n",
    "#     count=0\n",
    "    left=0\n",
    "    right=len(arr)-1\n",
    "    \n",
    "    while left<=right:\n",
    "#         count=count+1\n",
    "        mid=(left+right)//2\n",
    "        if arr[mid]==value:\n",
    "#             print(\"Binary search took \",count,\" comparisons to find\")\n",
    "            return mid\n",
    "        if arr[mid]<value:\n",
    "            left=mid+1\n",
    "        else:\n",
    "            right=mid-1\n",
    "            \n",
    "#     return -1\n",
    "    return mid\n",
    "\n",
    "def filter_data(arr,lookup,percentage):\n",
    "    index_matched=[]\n",
    "    started=False\n",
    "    for i in range(1,24,2):\n",
    "        if lookup[(i-1)//2]==0:\n",
    "            continue\n",
    "        lower=lookup[(i-1)//2]*(1-percentage)\n",
    "        upper=lookup[(i-1)//2]*(1+percentage)\n",
    "        lower_ind=binary_search(arr[:,i],lower)\n",
    "        upper_ind=binary_search(arr[:,i],upper)\n",
    "#         print(\"At column \",i,\", there were \",len(arr[lower_ind:upper_ind+1,i]),\" matches\")\n",
    "        if len(index_matched)==0 and started==False:\n",
    "            index_matched=arr[lower_ind:upper_ind+1,i-1]\n",
    "            started=True\n",
    "        else:\n",
    "            index_matched=list(set(index_matched).intersection(arr[lower_ind:upper_ind+1,i-1]))\n",
    "#         print(\"After column \",i,\", len of remaining people is: \",len(index_matched))\n",
    "    return index_matched\n"
   ]
  },
  {
   "cell_type": "code",
   "execution_count": 162,
   "id": "8e5011c3",
   "metadata": {},
   "outputs": [],
   "source": []
  },
  {
   "cell_type": "code",
   "execution_count": 133,
   "id": "945b8552",
   "metadata": {},
   "outputs": [],
   "source": [
    "vec2=[1000000,490-40,1000000, 490-38,1000000, 365-25,1000000, 365-27,1000000, 475-32,1000000, 475-29,1000000, 325-5,1000000, 325-7,1000000, 265-9,1000000, 265-11,1000000, 430-26,1000000, 300-21]\n",
    "new_dat=np.vstack([dat,vec2])\n",
    "for i in range(1,24,2):\n",
    "    sort_indices = np.argsort(new_dat[:,i])\n",
    "    new_dat[:,i-1:i+1]=new_dat[:,i-1:i+1][sort_indices]"
   ]
  },
  {
   "cell_type": "code",
   "execution_count": 142,
   "id": "ce997494",
   "metadata": {},
   "outputs": [],
   "source": [
    "results=[]\n",
    "vec=[490-35, 490-36, 365-22, 365-24, 475-37, 475-29, 325-4, 325-9, 265-10, 265-9, 430-23, 300-18]"
   ]
  },
  {
   "cell_type": "code",
   "execution_count": 143,
   "id": "52fd883d",
   "metadata": {},
   "outputs": [],
   "source": [
    "for i in range(50,0,-2):\n",
    "    res=filter_data(new_dat,vec,i/1000)\n",
    "    results.append(len(res))\n",
    "    "
   ]
  },
  {
   "cell_type": "code",
   "execution_count": 144,
   "id": "10d9930c",
   "metadata": {},
   "outputs": [
    {
     "data": {
      "text/plain": [
       "[<matplotlib.lines.Line2D at 0x14718fdf850>]"
      ]
     },
     "execution_count": 144,
     "metadata": {},
     "output_type": "execute_result"
    },
    {
     "data": {
      "image/png": "[encoded data removed]",
      "text/plain": [
       "<Figure size 432x288 with 1 Axes>"
      ]
     },
     "metadata": {
      "needs_background": "light"
     },
     "output_type": "display_data"
    }
   ],
   "source": [
    "plt.plot(results)"
   ]
  },
  {
   "cell_type": "code",
   "execution_count": 145,
   "id": "97387391",
   "metadata": {},
   "outputs": [
    {
     "data": {
      "text/plain": [
       "[23576,\n",
       " 17256,\n",
       " 12000,\n",
       " 7912,\n",
       " 4935,\n",
       " 2921,\n",
       " 1616,\n",
       " 786,\n",
       " 355,\n",
       " 144,\n",
       " 53,\n",
       " 21,\n",
       " 7,\n",
       " 3,\n",
       " 2,\n",
       " 1,\n",
       " 1,\n",
       " 1,\n",
       " 1,\n",
       " 1,\n",
       " 0,\n",
       " 0,\n",
       " 0,\n",
       " 0,\n",
       " 0]"
      ]
     },
     "execution_count": 145,
     "metadata": {},
     "output_type": "execute_result"
    }
   ],
   "source": [
    "results"
   ]
  },
  {
   "cell_type": "code",
   "execution_count": 164,
   "id": "7af0a729",
   "metadata": {},
   "outputs": [
    {
     "name": "stdout",
     "output_type": "stream",
     "text": [
      "0.300060510635376\n"
     ]
    }
   ],
   "source": [
    "import time\n",
    "start=time.time()\n",
    "filter_data(new_dat,vec,0.025)\n",
    "end=time.time()\n",
    "print(end-start)"
   ]
  },
  {
   "cell_type": "code",
   "execution_count": 1,
   "id": "489359ee",
   "metadata": {},
   "outputs": [
    {
     "ename": "IndexError",
     "evalue": "list assignment index out of range",
     "output_type": "error",
     "traceback": [
      "\u001b[1;31m---------------------------------------------------------------------------\u001b[0m",
      "\u001b[1;31mIndexError\u001b[0m                                Traceback (most recent call last)",
      "Cell \u001b[1;32mIn[1], line 2\u001b[0m\n\u001b[0;32m      1\u001b[0m t\u001b[38;5;241m=\u001b[39m[\u001b[38;5;241m1\u001b[39m,\u001b[38;5;241m2\u001b[39m]\n\u001b[1;32m----> 2\u001b[0m \u001b[43mt\u001b[49m\u001b[43m[\u001b[49m\u001b[38;5;241;43m3\u001b[39;49m\u001b[43m]\u001b[49m\u001b[38;5;241m=\u001b[39m\u001b[38;5;241m4\u001b[39m\n",
      "\u001b[1;31mIndexError\u001b[0m: list assignment index out of range"
     ]
    }
   ],
   "source": []
  },
  {
   "cell_type": "code",
   "execution_count": null,
   "id": "cd391d78",
   "metadata": {},
   "outputs": [],
   "source": []
  }
 ],
 "metadata": {
  "kernelspec": {
   "display_name": "Python 3 (ipykernel)",
   "language": "python",
   "name": "python3"
  },
  "language_info": {
   "codemirror_mode": {
    "name": "ipython",
    "version": 3
   },
   "file_extension": ".py",
   "mimetype": "text/x-python",
   "name": "python",
   "nbconvert_exporter": "python",
   "pygments_lexer": "ipython3",
   "version": "3.10.11"
  }
 },
 "nbformat": 4,
 "nbformat_minor": 5
}
