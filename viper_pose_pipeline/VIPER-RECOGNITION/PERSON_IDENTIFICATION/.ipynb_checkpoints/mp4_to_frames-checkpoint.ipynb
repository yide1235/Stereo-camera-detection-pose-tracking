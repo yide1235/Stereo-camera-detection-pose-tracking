{
 "cells": [
  {
   "cell_type": "code",
   "execution_count": 1,
   "id": "addc261a",
   "metadata": {},
   "outputs": [],
   "source": [
    "import cv2\n"
   ]
  },
  {
   "cell_type": "code",
   "execution_count": 2,
   "id": "0ca3a500",
   "metadata": {},
   "outputs": [],
   "source": [
    "def get_frames(path,output_path):\n",
    "    video = cv2.VideoCapture(path)\n",
    "    success, frame = video.read()\n",
    "\n",
    "    frame_count = 0  # Counter for naming frames\n",
    "\n",
    "    while success:\n",
    "        cv2.imwrite(f'{output_path}'+f'frame{frame_count}.jpg', frame)  # Save frame as JPEG file\n",
    "        success, frame = video.read()  # Read the next frame\n",
    "        frame_count += 1  # Increment frame counter\n",
    "\n",
    "    video.release()\n",
    "    cv2.destroyAllWindows()"
   ]
  },
  {
   "cell_type": "code",
   "execution_count": null,
   "id": "e9f3c283",
   "metadata": {},
   "outputs": [],
   "source": []
  }
 ],
 "metadata": {
  "kernelspec": {
   "display_name": "Python 3 (ipykernel)",
   "language": "python",
   "name": "python3"
  },
  "language_info": {
   "codemirror_mode": {
    "name": "ipython",
    "version": 3
   },
   "file_extension": ".py",
   "mimetype": "text/x-python",
   "name": "python",
   "nbconvert_exporter": "python",
   "pygments_lexer": "ipython3",
   "version": "3.10.11"
  }
 },
 "nbformat": 4,
 "nbformat_minor": 5
}
